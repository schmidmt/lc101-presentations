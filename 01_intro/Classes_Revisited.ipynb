{
 "cells": [
  {
   "cell_type": "markdown",
   "metadata": {},
   "source": [
    "# Classes Revisited\n",
    "\n",
    "Classes are quite powerful, everything in python is implemented as a class: `int`, `str`, `dict`, etc...\n",
    "\n",
    "Python objects can be __mutable__ or __immutable__.\n",
    "Properties by default are mutable.\n",
    "Let's see how that looks."
   ]
  },
  {
   "cell_type": "code",
   "execution_count": 1,
   "metadata": {
    "collapsed": true
   },
   "outputs": [],
   "source": [
    "class SomeCls:\n",
    "    def __init__(self, a, b):\n",
    "        self.a = a\n",
    "        self.b = b"
   ]
  },
  {
   "cell_type": "code",
   "execution_count": 2,
   "metadata": {
    "collapsed": true
   },
   "outputs": [],
   "source": [
    "example = SomeCls(1, 2)"
   ]
  },
  {
   "cell_type": "code",
   "execution_count": 3,
   "metadata": {},
   "outputs": [
    {
     "data": {
      "text/plain": [
       "1"
      ]
     },
     "execution_count": 3,
     "metadata": {},
     "output_type": "execute_result"
    }
   ],
   "source": [
    "example.a"
   ]
  },
  {
   "cell_type": "code",
   "execution_count": 4,
   "metadata": {
    "collapsed": true
   },
   "outputs": [],
   "source": [
    "example.a = 2"
   ]
  },
  {
   "cell_type": "code",
   "execution_count": 5,
   "metadata": {},
   "outputs": [
    {
     "data": {
      "text/plain": [
       "2"
      ]
     },
     "execution_count": 5,
     "metadata": {},
     "output_type": "execute_result"
    }
   ],
   "source": [
    "example.a"
   ]
  },
  {
   "cell_type": "markdown",
   "metadata": {},
   "source": [
    "See, we can change the value of the property `a`.\n",
    "It's a bit trickier to make something immutable.\n",
    "If you want to keep a variable from being easily changed prefix it with a `_` and write a __getter__ method to retieve the value."
   ]
  },
  {
   "cell_type": "code",
   "execution_count": 7,
   "metadata": {},
   "outputs": [],
   "source": [
    "class SomeOtherCls:\n",
    "    def __init__(self, a):\n",
    "        self._a = a\n",
    "    \n",
    "    def geta(self):\n",
    "        return self._a"
   ]
  },
  {
   "cell_type": "code",
   "execution_count": 8,
   "metadata": {
    "collapsed": true
   },
   "outputs": [],
   "source": [
    "foo = SomeOtherCls(5)"
   ]
  },
  {
   "cell_type": "code",
   "execution_count": 10,
   "metadata": {
    "scrolled": true
   },
   "outputs": [
    {
     "data": {
      "text/plain": [
       "5"
      ]
     },
     "execution_count": 10,
     "metadata": {},
     "output_type": "execute_result"
    }
   ],
   "source": [
    "foo.geta()"
   ]
  },
  {
   "cell_type": "markdown",
   "metadata": {},
   "source": [
    "Yes, you can still change it by `foo._a = 4` but that would be considered _rude_."
   ]
  },
  {
   "cell_type": "markdown",
   "metadata": {},
   "source": [
    "## Object Equality\n",
    "\n",
    "Objects can be judged to be equal in a totally customizable way.\n",
    "Remember __equal__ (`==`) and __same__ (`is`) are similar, but different, notions.\n",
    "\n",
    "Some objects lend themselves to an obvious equality, some do not.\n",
    "In fact, some will have many notions, you must choose which you want; and you should of course document it.\n",
    "\n",
    "Let us look at the following objects: Point and Person."
   ]
  },
  {
   "cell_type": "code",
   "execution_count": 11,
   "metadata": {
    "collapsed": true
   },
   "outputs": [],
   "source": [
    "class Point:\n",
    "    def __init__(self, x, y):\n",
    "        self.x = x\n",
    "        self.y = y\n",
    "        \n",
    "    def equals(self, other):\n",
    "        \"\"\"Returns true if self and other represent the same points\"\"\"\n",
    "        if self is other:  # The other is self, why check x and y, they will be the same\n",
    "            return True\n",
    "        return self.x == other.x and self.y == other.y            "
   ]
  },
  {
   "cell_type": "code",
   "execution_count": 12,
   "metadata": {
    "collapsed": true
   },
   "outputs": [],
   "source": [
    "class Animal:\n",
    "    \"\"\"Some generic animal representation\"\"\"\n",
    "    def __init__(self, species):\n",
    "        self.species = species\n",
    "    \n",
    "    def founders_equal(self, other):\n",
    "        \"\"\"Returns equality as the deceration of indepedance stated it\"\"\"\n",
    "        return self.species == 'Homo Saipens' and self.species == other.species  # AKA all humans born equal"
   ]
  },
  {
   "cell_type": "markdown",
   "metadata": {},
   "source": [
    "Both of these are notions of equality, the first is a strict notion while the second it a more inclusive.\n",
    "Equality groups can contain multiple distinct entities, that is okay. You just have to make sure it makes sense for your setting.\n",
    "\n",
    "You can customize how `==` works by writing a method called `__eq__`:"
   ]
  },
  {
   "cell_type": "code",
   "execution_count": 13,
   "metadata": {
    "collapsed": true
   },
   "outputs": [],
   "source": [
    "class Point:\n",
    "    def __init__(self, x, y):\n",
    "        self.x = x\n",
    "        self.y = y\n",
    "        \n",
    "    def __eq__(self, other):\n",
    "        \"\"\"Returns true if self and other represent the same points\"\"\"\n",
    "        if self is other:  # The other is self, why check x and y, they will be the same\n",
    "            return True\n",
    "        return self.x == other.x and self.y == other.y  "
   ]
  },
  {
   "cell_type": "code",
   "execution_count": 14,
   "metadata": {},
   "outputs": [
    {
     "data": {
      "text/plain": [
       "True"
      ]
     },
     "execution_count": 14,
     "metadata": {},
     "output_type": "execute_result"
    }
   ],
   "source": [
    "Point(1, 2) == Point(1, 2)"
   ]
  },
  {
   "cell_type": "code",
   "execution_count": 15,
   "metadata": {},
   "outputs": [
    {
     "data": {
      "text/plain": [
       "False"
      ]
     },
     "execution_count": 15,
     "metadata": {},
     "output_type": "execute_result"
    }
   ],
   "source": [
    "Point(1, 2) == Point(2, 1)"
   ]
  },
  {
   "cell_type": "markdown",
   "metadata": {},
   "source": [
    "## Overwriting The Math Operations\n",
    "\n",
    "Each binary operation (`+`, `-`, `/', `//`, '%`, `*`, etc) can be overwritten and used to preform the desired action."
   ]
  },
  {
   "cell_type": "code",
   "execution_count": 16,
   "metadata": {
    "collapsed": true
   },
   "outputs": [],
   "source": [
    "class Positive:\n",
    "    \"\"\"Some Placeholder that is positive\"\"\"\n",
    "    \n",
    "    def __add__(self, other):\n",
    "        return other\n",
    "\n",
    "class Negative:\n",
    "    \"\"\"Some Negative placeholder\"\"\"\n",
    "    def __add__(self, other):\n",
    "        if isinstance(other, Negative):\n",
    "            return Positive\n",
    "        else:\n",
    "            return Negative"
   ]
  },
  {
   "cell_type": "code",
   "execution_count": 18,
   "metadata": {
    "scrolled": true
   },
   "outputs": [
    {
     "data": {
      "text/plain": [
       "__main__.Positive"
      ]
     },
     "execution_count": 18,
     "metadata": {},
     "output_type": "execute_result"
    }
   ],
   "source": [
    "Negative() + Negative()  # Ha, see two negatives makes a positive"
   ]
  },
  {
   "cell_type": "markdown",
   "metadata": {},
   "source": [
    "All the operations can be overloaded (aka overwritten). See https://docs.python.org/3/reference/datamodel.html#emulating-numeric-types for all of them."
   ]
  },
  {
   "cell_type": "markdown",
   "metadata": {},
   "source": [
    "## Inheritance\n",
    "\n",
    "Inheritance is a pattern that allows a class to extend an existing class.\n",
    "An example of this is, say you wanted a class to represent an apple.\n",
    "An apple is a fruit, and in fact a fruit has properties itself.\n",
    "Using inheritance, we can create a Apple class which only adds or overwrites properties and methods that exist in the Fruit class.\n",
    "This saves us from repeating ourselves and makes it easier to change qualites of all fruits in one place."
   ]
  },
  {
   "cell_type": "code",
   "execution_count": 33,
   "metadata": {
    "collapsed": true
   },
   "outputs": [],
   "source": [
    "class Fruit:\n",
    "    def __init__(self, tasty, color):\n",
    "        self.tasty = tasty\n",
    "        self.color = color\n",
    "        self.is_ripe = False\n",
    "        \n",
    "    def ripen(self):\n",
    "        self.is_ripe = True\n",
    "        \n",
    "\n",
    "class Apple(Fruit):  # <-- Signals that Apple inherits the qualities of Fruit\n",
    "    \"\"\"Apple (Fruit)\n",
    "        We say Apple is the SubClass and Fruit is the SuperClass.\n",
    "    \"\"\"\n",
    "    \n",
    "    def __init__(self, color, crab):\n",
    "        super().__init__(not crab, color)  # Initialize the qualities from the \"Super\" class on self.\n",
    "                                                 # If we didn't redefine __init__ the one from Fruit would be used.\n",
    "            \n",
    "        self.is_crab = True\n",
    "    \n",
    "    def cider(self):\n",
    "        print(\"Mmm, fresh Apple Cider\")"
   ]
  },
  {
   "cell_type": "code",
   "execution_count": 34,
   "metadata": {},
   "outputs": [],
   "source": [
    "app = Apple('Red', False)"
   ]
  },
  {
   "cell_type": "code",
   "execution_count": 35,
   "metadata": {},
   "outputs": [
    {
     "data": {
      "text/plain": [
       "True"
      ]
     },
     "execution_count": 35,
     "metadata": {},
     "output_type": "execute_result"
    }
   ],
   "source": [
    "app.tasty"
   ]
  },
  {
   "cell_type": "code",
   "execution_count": 36,
   "metadata": {},
   "outputs": [
    {
     "name": "stdout",
     "output_type": "stream",
     "text": [
      "Mmm, fresh Apple Cider\n"
     ]
    }
   ],
   "source": [
    "app.cider()"
   ]
  },
  {
   "cell_type": "code",
   "execution_count": 37,
   "metadata": {},
   "outputs": [
    {
     "data": {
      "text/plain": [
       "False"
      ]
     },
     "execution_count": 37,
     "metadata": {},
     "output_type": "execute_result"
    }
   ],
   "source": [
    "app.is_ripe"
   ]
  },
  {
   "cell_type": "code",
   "execution_count": 38,
   "metadata": {
    "collapsed": true
   },
   "outputs": [],
   "source": [
    "app.ripen()"
   ]
  },
  {
   "cell_type": "code",
   "execution_count": 39,
   "metadata": {},
   "outputs": [
    {
     "data": {
      "text/plain": [
       "True"
      ]
     },
     "execution_count": 39,
     "metadata": {},
     "output_type": "execute_result"
    }
   ],
   "source": [
    "app.is_ripe"
   ]
  },
  {
   "cell_type": "markdown",
   "metadata": {},
   "source": [
    "We see app, an instance of Apple has the methods and properties from Fruit! We didn't have to repeat ourselves!"
   ]
  },
  {
   "cell_type": "markdown",
   "metadata": {},
   "source": [
    "# Studio"
   ]
  },
  {
   "cell_type": "code",
   "execution_count": null,
   "metadata": {
    "collapsed": true
   },
   "outputs": [],
   "source": [
    "class Post:\n",
    "    def __init__(self, title, author, body):\n",
    "        self.title = title\n",
    "        self.author = author\n",
    "        self.body = body\n",
    "        self.likes = 0\n",
    "    \n",
    "    def like(self):\n",
    "        self.likes += 1\n",
    "    \n",
    "    def __repr__(self):\n",
    "        return '{} by {}'.format(self.title, self.author)\n",
    "    \n",
    "\n",
    "def VideoPost(Post):\n",
    "    def __init__(self, title, author, url):\n",
    "        super().__init__(title, author, None)  # You should always use super\n",
    "        self.url = url\n",
    "        self.plays = 0\n",
    "    \n",
    "    def play(self):\n",
    "        self.plays += 1\n",
    "    \n",
    "    def __repr__(self):\n",
    "        return \"{} played {} times\".format(self.title, self.plays)"
   ]
  }
 ],
 "metadata": {
  "kernelspec": {
   "display_name": "Python 3",
   "language": "python",
   "name": "python3"
  },
  "language_info": {
   "codemirror_mode": {
    "name": "ipython",
    "version": 3
   },
   "file_extension": ".py",
   "mimetype": "text/x-python",
   "name": "python",
   "nbconvert_exporter": "python",
   "pygments_lexer": "ipython3",
   "version": "3.4.5"
  }
 },
 "nbformat": 4,
 "nbformat_minor": 2
}
