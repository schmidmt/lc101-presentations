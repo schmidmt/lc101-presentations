{
 "cells": [
  {
   "cell_type": "markdown",
   "metadata": {},
   "source": [
    "# Classes\n",
    "\n",
    "Humans like to categorize things.\n",
    "We like to put things in bins, to make thinking about those things easier.\n",
    "For instance, if we see a four legged, fuzzy creature with a snout and floppy ears, we think dog.\n",
    "Here, dog is a category of animals that share a common set of properties.\n",
    "Dogs bark, pant, have fur.\n",
    "Each individual dog has specific qualities that make it distinct from other dogs; for instance name, breed, etc.\n",
    "\n",
    "We can refer to each category as a __class__.\n",
    "\n",
    "In software, we can create a template for creating objects in such a way that specific objects fall into a __class__.\n",
    "So, let us start with a classification (class) for dogs."
   ]
  },
  {
   "cell_type": "code",
   "execution_count": 17,
   "metadata": {
    "collapsed": true
   },
   "outputs": [],
   "source": [
    "class Dog:  # It is convention to CamelCase class names\n",
    "    def __init__(self, name, breed, age):\n",
    "        ''' This is the class initializer (Not a constructor `__new__` is the constructor) '''\n",
    "        self.name = name\n",
    "        self.breed = breed\n",
    "        self.age = age\n",
    "    \n",
    "    def bark(self):\n",
    "        '''Make the dog bark'''\n",
    "        print('{} says: BARK!'.format(self.name))\n",
    "    \n",
    "    def birthday(self):\n",
    "        '''This will age the dog one year'''\n",
    "        self.age += 1"
   ]
  },
  {
   "cell_type": "markdown",
   "metadata": {},
   "source": [
    "There are some things here to discuss:\n",
    "\n",
    "### Class VS Instance\n",
    "A __class__ is the grouping of similar attributes, in the above clase it is `Dog`.\n",
    "An __instance__ is a specific case of a class.\n",
    "If I wanted to describe a dog named Yeller, I'd do the following:"
   ]
  },
  {
   "cell_type": "code",
   "execution_count": 32,
   "metadata": {
    "collapsed": true
   },
   "outputs": [],
   "source": [
    "yeller = Dog('Yeller', 'Yellow Lab', 5)"
   ]
  },
  {
   "cell_type": "markdown",
   "metadata": {},
   "source": [
    "Above, yeller is the instance of Dog. \n",
    "\n",
    "### The initializer\n",
    "`__init__` takes a blank object, taken as an argument `self`, and sets it up for use later.\n",
    "You usually add properties, taken from the arguments during creation.\n",
    "\n",
    "### Methods\n",
    "Each `def` nested in the class definition will attach a `method` to the class instance"
   ]
  },
  {
   "cell_type": "code",
   "execution_count": 18,
   "metadata": {
    "collapsed": true
   },
   "outputs": [],
   "source": [
    "frank = Dog('Frank', 'Mutt', 3)"
   ]
  },
  {
   "cell_type": "code",
   "execution_count": 19,
   "metadata": {},
   "outputs": [
    {
     "data": {
      "text/plain": [
       "<__main__.Dog at 0x3a731acf1d0>"
      ]
     },
     "execution_count": 19,
     "metadata": {},
     "output_type": "execute_result"
    }
   ],
   "source": [
    "frank"
   ]
  },
  {
   "cell_type": "code",
   "execution_count": 20,
   "metadata": {},
   "outputs": [
    {
     "data": {
      "text/plain": [
       "'Frank'"
      ]
     },
     "execution_count": 20,
     "metadata": {},
     "output_type": "execute_result"
    }
   ],
   "source": [
    "frank.name"
   ]
  },
  {
   "cell_type": "code",
   "execution_count": 21,
   "metadata": {},
   "outputs": [
    {
     "data": {
      "text/plain": [
       "'Mutt'"
      ]
     },
     "execution_count": 21,
     "metadata": {},
     "output_type": "execute_result"
    }
   ],
   "source": [
    "frank.breed"
   ]
  },
  {
   "cell_type": "code",
   "execution_count": 22,
   "metadata": {},
   "outputs": [
    {
     "data": {
      "text/plain": [
       "3"
      ]
     },
     "execution_count": 22,
     "metadata": {},
     "output_type": "execute_result"
    }
   ],
   "source": [
    "frank.age"
   ]
  },
  {
   "cell_type": "code",
   "execution_count": 23,
   "metadata": {
    "collapsed": true
   },
   "outputs": [],
   "source": [
    "frank.birthday()"
   ]
  },
  {
   "cell_type": "code",
   "execution_count": 24,
   "metadata": {},
   "outputs": [
    {
     "data": {
      "text/plain": [
       "4"
      ]
     },
     "execution_count": 24,
     "metadata": {},
     "output_type": "execute_result"
    }
   ],
   "source": [
    "frank.age"
   ]
  },
  {
   "cell_type": "code",
   "execution_count": 25,
   "metadata": {},
   "outputs": [
    {
     "name": "stdout",
     "output_type": "stream",
     "text": [
      "Frank says: BARK!\n"
     ]
    }
   ],
   "source": [
    "frank.bark()"
   ]
  },
  {
   "cell_type": "markdown",
   "metadata": {},
   "source": [
    "## Why Classes Exist\n",
    "\n",
    "Classes provide a way to abstract from individual instances to a pattern to follow for all instance of a particular type.\n",
    "It provides a way to offload thinking about dozens of things and instead look at a hypothetical concept of something."
   ]
  },
  {
   "cell_type": "code",
   "execution_count": 44,
   "metadata": {
    "collapsed": true
   },
   "outputs": [],
   "source": [
    "import math"
   ]
  },
  {
   "cell_type": "code",
   "execution_count": 46,
   "metadata": {},
   "outputs": [
    {
     "data": {
      "text/plain": [
       "builtin_function_or_method"
      ]
     },
     "execution_count": 46,
     "metadata": {},
     "output_type": "execute_result"
    }
   ],
   "source": [
    "type(math.acos)"
   ]
  },
  {
   "cell_type": "markdown",
   "metadata": {},
   "source": [
    "## Some Helpful Class Methods\n",
    "\n",
    "* `__repr__` defines how you want to represent the class when printed.\n",
    "* `__str__` defines how the class should behave when cast as a string.\n",
    "\n",
    "All the dunder methods are defined here:\n",
    "https://docs.python.org/3/reference/datamodel.html#basic-customization\n",
    "\n",
    "Lets add these to our class:"
   ]
  },
  {
   "cell_type": "code",
   "execution_count": 40,
   "metadata": {
    "collapsed": true
   },
   "outputs": [],
   "source": [
    "class Dog:  # It is convention to CamelCase class names\n",
    "    def __init__(self, name, breed, age):\n",
    "        ''' This is the class initializer (Not a constructor `__new__` is the constructor) '''\n",
    "        self.name = name\n",
    "        self.breed = breed\n",
    "        self.age = age\n",
    "    \n",
    "    def bark(self):\n",
    "        '''Make the dog bark'''\n",
    "        print('{} says: BARK!'.format(self.name))\n",
    "    \n",
    "    def birthday(self):\n",
    "        '''This will age the dog one year'''\n",
    "        self.age += 1\n",
    "        \n",
    "    def __repr__(self):\n",
    "        return '<Dog {}>'.format(vars(self))\n",
    "    \n",
    "    def __str__(self):\n",
    "        return self.name"
   ]
  },
  {
   "cell_type": "code",
   "execution_count": 49,
   "metadata": {
    "collapsed": true
   },
   "outputs": [],
   "source": [
    "pooch = Dog('Odie', '...', 3)"
   ]
  },
  {
   "cell_type": "code",
   "execution_count": 50,
   "metadata": {},
   "outputs": [
    {
     "name": "stdout",
     "output_type": "stream",
     "text": [
      "<Dog {'breed': '...', 'name': 'Odie', 'age': 3}>\n"
     ]
    }
   ],
   "source": [
    "print(repr(pooch))"
   ]
  },
  {
   "cell_type": "code",
   "execution_count": 51,
   "metadata": {},
   "outputs": [
    {
     "name": "stdout",
     "output_type": "stream",
     "text": [
      "Odie\n"
     ]
    }
   ],
   "source": [
    "print(str(pooch))"
   ]
  },
  {
   "cell_type": "markdown",
   "metadata": {},
   "source": [
    "# Studio"
   ]
  },
  {
   "cell_type": "code",
   "execution_count": 92,
   "metadata": {},
   "outputs": [],
   "source": [
    "import fractions"
   ]
  },
  {
   "cell_type": "code",
   "execution_count": 93,
   "metadata": {},
   "outputs": [
    {
     "data": {
      "text/plain": [
       "'/usr/lib64/python3.4/fractions.py'"
      ]
     },
     "execution_count": 93,
     "metadata": {},
     "output_type": "execute_result"
    }
   ],
   "source": [
    "fractions.__file__"
   ]
  },
  {
   "cell_type": "code",
   "execution_count": 89,
   "metadata": {
    "collapsed": true
   },
   "outputs": [],
   "source": [
    "def gcd(a, b):\n",
    "    \"\"\"Return the common divisor for a and b\"\"\"\n",
    "    if a == 0:\n",
    "        return b\n",
    "    if b == 0:\n",
    "        return a\n",
    "    \n",
    "    return gcd(b % a, a)"
   ]
  },
  {
   "cell_type": "code",
   "execution_count": 90,
   "metadata": {},
   "outputs": [
    {
     "data": {
      "text/plain": [
       "16"
      ]
     },
     "execution_count": 90,
     "metadata": {},
     "output_type": "execute_result"
    }
   ],
   "source": [
    "gcd(16, 32)"
   ]
  },
  {
   "cell_type": "code",
   "execution_count": 94,
   "metadata": {
    "collapsed": true
   },
   "outputs": [],
   "source": [
    "class Fraction:\n",
    "    def __init__(self, num, dom):\n",
    "        self.n = num\n",
    "        self.d = dom\n",
    "        self.simplify()\n",
    "        \n",
    "    def __str__(self):\n",
    "        return '{}/{}'.format(self.n, self.d)\n",
    "    \n",
    "    def add(self, other):\n",
    "        \"\"\"Adds self and other and returns a new fraction\"\"\"\n",
    "        new_d = self.d * other.d\n",
    "        new_n = self.n * other.d + other.n * self.d\n",
    "        return Fraction(new_n, new_d)\n",
    "    \n",
    "    def __add__(self, other):\n",
    "        return self.add(other)\n",
    "    \n",
    "    def mult(self, other):\n",
    "        \"\"\"Multiply two fractions\"\"\"\n",
    "        return Fraction(self.n * other.n, self.d * other.d)\n",
    "    \n",
    "    def __mul__(self, other):\n",
    "        return self.mult(other)\n",
    "    \n",
    "    def simplify(self):\n",
    "        \"\"\"Simplifies this fraction in-place\"\"\"\n",
    "        div = gcd(self.n, self.d)\n",
    "        self.n = self.n // div\n",
    "        self.d //= div"
   ]
  },
  {
   "cell_type": "code",
   "execution_count": 83,
   "metadata": {
    "collapsed": true
   },
   "outputs": [],
   "source": [
    "ex_1 = Fraction(1, 2)\n",
    "ex_2 = Fraction(3, 4)"
   ]
  },
  {
   "cell_type": "code",
   "execution_count": 85,
   "metadata": {},
   "outputs": [
    {
     "name": "stdout",
     "output_type": "stream",
     "text": [
      "5/4\n"
     ]
    }
   ],
   "source": [
    "print(ex_1 + ex_2)"
   ]
  },
  {
   "cell_type": "code",
   "execution_count": null,
   "metadata": {
    "collapsed": true
   },
   "outputs": [],
   "source": []
  }
 ],
 "metadata": {
  "kernelspec": {
   "display_name": "Python 3",
   "language": "python",
   "name": "python3"
  },
  "language_info": {
   "codemirror_mode": {
    "name": "ipython",
    "version": 3
   },
   "file_extension": ".py",
   "mimetype": "text/x-python",
   "name": "python",
   "nbconvert_exporter": "python",
   "pygments_lexer": "ipython3",
   "version": "3.4.5"
  }
 },
 "nbformat": 4,
 "nbformat_minor": 2
}
